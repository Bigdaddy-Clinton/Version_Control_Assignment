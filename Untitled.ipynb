{
 "cells": [
  {
   "cell_type": "markdown",
   "id": "14e0bfd9-736a-4bf6-975c-5a5fd8b99184",
   "metadata": {},
   "source": [
    "## Write a function called greet that takes a name as a parameter and returns \"Hello, [name]!\""
   ]
  },
  {
   "cell_type": "code",
   "execution_count": 19,
   "id": "b94c7f64-57d7-408a-8092-1442a32b9c27",
   "metadata": {},
   "outputs": [],
   "source": [
    "def greet(name):\n",
    "    return f\"Hello, {name}!\"\n"
   ]
  },
  {
   "cell_type": "code",
   "execution_count": 23,
   "id": "bfa943a8-b85a-461c-93d5-993d7ce2b89b",
   "metadata": {},
   "outputs": [
    {
     "data": {
      "text/plain": [
       "'Hello, Clinton!'"
      ]
     },
     "execution_count": 23,
     "metadata": {},
     "output_type": "execute_result"
    }
   ],
   "source": [
    "greet(\"Clinton\")"
   ]
  },
  {
   "cell_type": "markdown",
   "id": "f7e64475-fcaa-486d-ae2a-ad121874e306",
   "metadata": {},
   "source": [
    "## Create a function calculate_area that takes length and width as parameters and returns the area of a rectangle"
   ]
  },
  {
   "cell_type": "code",
   "execution_count": 25,
   "id": "794a21a0-692f-4e53-bbd7-b671d0cf8cad",
   "metadata": {},
   "outputs": [],
   "source": [
    "def calculate_area(length, width):\n",
    "    return length * width"
   ]
  },
  {
   "cell_type": "code",
   "execution_count": 27,
   "id": "3865acfa-7e35-4824-a992-6486c86eebc7",
   "metadata": {},
   "outputs": [
    {
     "data": {
      "text/plain": [
       "36"
      ]
     },
     "execution_count": 27,
     "metadata": {},
     "output_type": "execute_result"
    }
   ],
   "source": [
    " calculate_area(6,6)"
   ]
  },
  {
   "cell_type": "markdown",
   "id": "1b5768d1-0d13-450e-8f2d-870b8fc69016",
   "metadata": {},
   "source": [
    "## Define a function is_even that takes a number and returns True if it's even, False if it's odd."
   ]
  },
  {
   "cell_type": "code",
   "execution_count": 33,
   "id": "15ffc37d-8ddd-4e35-92c5-2f5c0f297585",
   "metadata": {},
   "outputs": [],
   "source": [
    "def is_even(number):\n",
    "    return number % 2 == 0"
   ]
  },
  {
   "cell_type": "code",
   "execution_count": 35,
   "id": "87822161-62b7-4039-927d-e9b22accc3b8",
   "metadata": {},
   "outputs": [
    {
     "data": {
      "text/plain": [
       "True"
      ]
     },
     "execution_count": 35,
     "metadata": {},
     "output_type": "execute_result"
    }
   ],
   "source": [
    "is_even(88)"
   ]
  },
  {
   "cell_type": "markdown",
   "id": "3d9290a5-d40d-420b-8bbc-e0a67662838f",
   "metadata": {},
   "source": [
    "## Write a function get_max that takes two numbers and returns the larger one."
   ]
  },
  {
   "cell_type": "code",
   "execution_count": 37,
   "id": "06c90ca7-99b6-481a-afc8-4e3176db4ffb",
   "metadata": {},
   "outputs": [],
   "source": [
    "def get_max(a, b):\n",
    "    return a if a > b else b"
   ]
  },
  {
   "cell_type": "code",
   "execution_count": 39,
   "id": "dd99133f-f233-4209-9d88-ff39e7d1583c",
   "metadata": {},
   "outputs": [
    {
     "data": {
      "text/plain": [
       "91"
      ]
     },
     "execution_count": 39,
     "metadata": {},
     "output_type": "execute_result"
    }
   ],
   "source": [
    "get_max(89,91)"
   ]
  },
  {
   "cell_type": "markdown",
   "id": "2f2ee7cb-652c-4dc3-9d1b-a4b5c527e9bd",
   "metadata": {},
   "source": [
    "## Create a function celsius_to_fahrenheit that converts Celsius to Fahrenheit using the formula: F = (C × 9/5) + 32"
   ]
  },
  {
   "cell_type": "code",
   "execution_count": 43,
   "id": "57e2a810-37e4-48cf-aef3-169fea605d85",
   "metadata": {},
   "outputs": [],
   "source": [
    "def celsius_to_fahrenheit(celsius):\n",
    "    return (celsius * 9/5) + 32"
   ]
  },
  {
   "cell_type": "code",
   "execution_count": 45,
   "id": "07b0a7bd-f073-4db3-9202-1c419b77a743",
   "metadata": {},
   "outputs": [
    {
     "data": {
      "text/plain": [
       "356.0"
      ]
     },
     "execution_count": 45,
     "metadata": {},
     "output_type": "execute_result"
    }
   ],
   "source": [
    "celsius_to_fahrenheit (180)"
   ]
  },
  {
   "cell_type": "markdown",
   "id": "5ef1c6e7-2e0c-4828-a036-2c2a88b641f2",
   "metadata": {},
   "source": [
    "## Write a function introduce that takes a name and an optional age parameter (default value 25). It should return \"Hi, I'm [name] and I'm [age] years old.\""
   ]
  },
  {
   "cell_type": "code",
   "execution_count": 48,
   "id": "430dad65-3296-4763-8b8d-1b970ba13c6f",
   "metadata": {},
   "outputs": [],
   "source": [
    "def introduce(name, age=25):\n",
    "    return f\"Hi, I'm {name} and I'm {age} years old.\""
   ]
  },
  {
   "cell_type": "code",
   "execution_count": 52,
   "id": "8a47b0bd-6316-4f0b-92c6-65f30b0c1db9",
   "metadata": {},
   "outputs": [
    {
     "data": {
      "text/plain": [
       "\"Hi, I'm Clinton and I'm 25 years old.\""
      ]
     },
     "execution_count": 52,
     "metadata": {},
     "output_type": "execute_result"
    }
   ],
   "source": [
    "introduce ('Clinton')"
   ]
  },
  {
   "cell_type": "markdown",
   "id": "ad654aa8-a3bd-4c25-897c-bea6ce000938",
   "metadata": {},
   "source": [
    "## Create a function calculate_discount that takes a price and discount percentage (default 10%) and returns the discounted price."
   ]
  },
  {
   "cell_type": "code",
   "execution_count": 58,
   "id": "93dc29af-5818-48a0-a524-874d7c4fbdc8",
   "metadata": {},
   "outputs": [],
   "source": [
    "def calculate_discount(price, discount=10):\n",
    "    return price - (price * discount / 100)"
   ]
  },
  {
   "cell_type": "code",
   "execution_count": 60,
   "id": "10c58921-e389-46af-b31f-8fd25c14e252",
   "metadata": {},
   "outputs": [
    {
     "data": {
      "text/plain": [
       "63.0"
      ]
     },
     "execution_count": 60,
     "metadata": {},
     "output_type": "execute_result"
    }
   ],
   "source": [
    "calculate_discount(70)"
   ]
  },
  {
   "cell_type": "markdown",
   "id": "7ae656bc-b096-408d-9c86-1d931667def7",
   "metadata": {},
   "source": [
    "## Define a function create_email that takes a first name, last name, and optional domain (default \"gmail.com\") to create an email address."
   ]
  },
  {
   "cell_type": "code",
   "execution_count": 62,
   "id": "b4620871-69fa-42d7-878e-8951e840138e",
   "metadata": {},
   "outputs": [],
   "source": [
    "def create_email(first_name, last_name, domain=\"gmail.com\"):\n",
    "    return f\"{first_name.lower()}.{last_name.lower()}@{domain}\""
   ]
  },
  {
   "cell_type": "code",
   "execution_count": 64,
   "id": "7a9014d9-2bef-4f98-aa1e-c64a27b36230",
   "metadata": {},
   "outputs": [
    {
     "data": {
      "text/plain": [
       "'clinton.ike@gmail.com'"
      ]
     },
     "execution_count": 64,
     "metadata": {},
     "output_type": "execute_result"
    }
   ],
   "source": [
    "create_email('Clinton', 'Ike')"
   ]
  },
  {
   "cell_type": "markdown",
   "id": "8c87aba0-169d-44e3-9c24-ae35ba0935ab",
   "metadata": {},
   "source": [
    "## Create a function count_vowels that takes a string and returns the number of vowels in it."
   ]
  },
  {
   "cell_type": "code",
   "execution_count": 66,
   "id": "648ed4bf-975c-4ad0-be61-7efdf35ccd1f",
   "metadata": {},
   "outputs": [],
   "source": [
    "def count_vowels(text):\n",
    "    vowels = 'aeiouAEIOU'\n",
    "    return sum(1 for char in text if char in vowels)"
   ]
  },
  {
   "cell_type": "code",
   "execution_count": 70,
   "id": "e8e916ea-90c5-4441-958c-c14a7bac2a31",
   "metadata": {},
   "outputs": [
    {
     "data": {
      "text/plain": [
       "2"
      ]
     },
     "execution_count": 70,
     "metadata": {},
     "output_type": "execute_result"
    }
   ],
   "source": [
    "count_vowels ('gibson')"
   ]
  },
  {
   "cell_type": "markdown",
   "id": "b4cb5a7b-f957-49cd-aa4e-200472c169ab",
   "metadata": {},
   "source": [
    "## Define a function find_longest_word that takes a list of words and returns the longest one."
   ]
  },
  {
   "cell_type": "code",
   "execution_count": 80,
   "id": "67b471ed-0fd0-4d6d-a232-15411543c01e",
   "metadata": {},
   "outputs": [],
   "source": [
    "def find_longest_word(sentence):\n",
    "    words = sentence.split()\n",
    "    return max(words, key=len)"
   ]
  },
  {
   "cell_type": "code",
   "execution_count": 82,
   "id": "b1aebed1-e156-42c4-b0c7-5164a5faab61",
   "metadata": {},
   "outputs": [
    {
     "data": {
      "text/plain": [
       "'important'"
      ]
     },
     "execution_count": 82,
     "metadata": {},
     "output_type": "execute_result"
    }
   ],
   "source": [
    "find_longest_word ('Clinton is the most important man on earth.')"
   ]
  },
  {
   "cell_type": "markdown",
   "id": "78b39be2-31e3-4c96-ab4c-bf51996691ec",
   "metadata": {},
   "source": [
    "## Write a function grade_calculator that takes a score (0-100) and returns the letter grade (A, B, C, D,E, F)."
   ]
  },
  {
   "cell_type": "code",
   "execution_count": 89,
   "id": "8c14c9f0-1843-4236-865a-52e4d2a3046f",
   "metadata": {},
   "outputs": [],
   "source": [
    "def grade_calculator(score):\n",
    "    if score >= 90:\n",
    "        return 'A'\n",
    "    elif score >= 80:\n",
    "        return 'B'\n",
    "    elif score >= 70:\n",
    "        return 'C'\n",
    "    elif score >= 60:\n",
    "        return 'D'\n",
    "    elif score >= 50:\n",
    "        return 'E'\n",
    "    else:\n",
    "        return 'F'"
   ]
  },
  {
   "cell_type": "code",
   "execution_count": 93,
   "id": "08f75c79-4cae-4dfb-b11a-9c3765f06072",
   "metadata": {},
   "outputs": [
    {
     "data": {
      "text/plain": [
       "'B'"
      ]
     },
     "execution_count": 93,
     "metadata": {},
     "output_type": "execute_result"
    }
   ],
   "source": [
    "grade_calculator (80)"
   ]
  },
  {
   "cell_type": "raw",
   "id": "deb97d97-eaef-4c4b-8f08-591af30ccc06",
   "metadata": {},
   "source": []
  },
  {
   "cell_type": "markdown",
   "id": "c563813e-29a7-4a1e-857b-75212479e661",
   "metadata": {},
   "source": [
    "## Write a function file_extension that extracts the file extension from a filename, handling cases where there might be no extension."
   ]
  },
  {
   "cell_type": "code",
   "execution_count": 95,
   "id": "8dac0ac8-396c-4c46-95c6-91c208f1b9ad",
   "metadata": {},
   "outputs": [],
   "source": [
    "def file_extension(filename):\n",
    "    if '.' in filename:\n",
    "        return filename.rsplit('.', 1)[-1]\n",
    "    return None"
   ]
  },
  {
   "cell_type": "code",
   "execution_count": 97,
   "id": "533557da-3dbd-4b3f-8aca-71927ea17551",
   "metadata": {},
   "outputs": [
    {
     "name": "stdout",
     "output_type": "stream",
     "text": [
      "pdf\n"
     ]
    }
   ],
   "source": [
    "print(file_extension(\"document.pdf\"))"
   ]
  },
  {
   "cell_type": "markdown",
   "id": "8990fdbf-39e7-428f-9b68-463f5a425aea",
   "metadata": {},
   "source": [
    "## Write a function safe_get_item that tries to access a list item by index and returns None if the index is out of bounds."
   ]
  },
  {
   "cell_type": "code",
   "execution_count": 99,
   "id": "4abe224f-1bf0-4902-bbf8-4019cfc5f959",
   "metadata": {},
   "outputs": [],
   "source": [
    "def safe_get_item(lst, index):\n",
    "    if 0 <= index < len(lst):\n",
    "        return lst[index]\n",
    "    return None"
   ]
  },
  {
   "cell_type": "code",
   "execution_count": 101,
   "id": "a54aebd8-2321-4c6b-a57c-160a21fd8c3f",
   "metadata": {},
   "outputs": [
    {
     "name": "stdout",
     "output_type": "stream",
     "text": [
      "banana\n"
     ]
    }
   ],
   "source": [
    "my_list = ['apple', 'banana', 'cherry']\n",
    "print(safe_get_item(my_list, 1))"
   ]
  },
  {
   "cell_type": "markdown",
   "id": "229912ef-36a7-4add-a62c-64d939322915",
   "metadata": {},
   "source": [
    "## Create a function clean_data that takes a list of mixed data types and returns only the numeric values as a new list."
   ]
  },
  {
   "cell_type": "code",
   "execution_count": 104,
   "id": "a422bb23-b43c-42cb-bf0b-4c4b0379cdf7",
   "metadata": {},
   "outputs": [],
   "source": [
    "def clean_data(data):\n",
    "    return [item for item in data if isinstance(item, (int, float))]"
   ]
  },
  {
   "cell_type": "code",
   "execution_count": 106,
   "id": "dac46b30-e45e-4cb7-bec1-4d904c8ecc60",
   "metadata": {},
   "outputs": [
    {
     "name": "stdout",
     "output_type": "stream",
     "text": [
      "[42, 3.14, True, -7]\n"
     ]
    }
   ],
   "source": [
    "mixed_list = [42, 'hello', 3.14, None, True, '100', -7]\n",
    "cleaned = clean_data(mixed_list)\n",
    "print(cleaned)"
   ]
  },
  {
   "cell_type": "markdown",
   "id": "a8184d7c-179f-4125-bf70-67224bbd4def",
   "metadata": {},
   "source": [
    "## Write a function analyze_grades that takes a dictionary of student names and their scores lists, returning statistics (average, highest, lowest) for each student."
   ]
  },
  {
   "cell_type": "code",
   "execution_count": 109,
   "id": "1bb4ed07-efaa-4ecc-b5ce-7885e5a4fd6c",
   "metadata": {},
   "outputs": [],
   "source": [
    "def analyze_grades(grades_dict):\n",
    "    result = {}\n",
    "    for student, scores in grades_dict.items():\n",
    "        if scores:  # Make sure the list is not empty\n",
    "            avg = sum(scores) / len(scores)\n",
    "            highest = max(scores)\n",
    "            lowest = min(scores)\n",
    "            result[student] = {\n",
    "                'average': avg,\n",
    "                'highest': highest,\n",
    "                'lowest': lowest\n",
    "            }\n",
    "        else:\n",
    "            result[student] = {\n",
    "                'average': None,\n",
    "                'highest': None,\n",
    "                'lowest': None\n",
    "            }\n",
    "    return result"
   ]
  },
  {
   "cell_type": "code",
   "execution_count": 111,
   "id": "d4c9a44b-bed5-4645-99db-ed881973ea68",
   "metadata": {},
   "outputs": [
    {
     "name": "stdout",
     "output_type": "stream",
     "text": [
      "{'Alice': {'average': 86.33333333333333, 'highest': 92, 'lowest': 79}, 'Bob': {'average': 80.0, 'highest': 85, 'lowest': 75}, 'Charlie': {'average': None, 'highest': None, 'lowest': None}}\n"
     ]
    }
   ],
   "source": [
    "grades = {\n",
    "    \"Alice\": [88, 92, 79],\n",
    "    \"Bob\": [75, 85],\n",
    "    \"Charlie\": [],\n",
    "}\n",
    "\n",
    "print(analyze_grades(grades))"
   ]
  }
 ],
 "metadata": {
  "kernelspec": {
   "display_name": "Python [conda env:base] *",
   "language": "python",
   "name": "conda-base-py"
  },
  "language_info": {
   "codemirror_mode": {
    "name": "ipython",
    "version": 3
   },
   "file_extension": ".py",
   "mimetype": "text/x-python",
   "name": "python",
   "nbconvert_exporter": "python",
   "pygments_lexer": "ipython3",
   "version": "3.12.7"
  }
 },
 "nbformat": 4,
 "nbformat_minor": 5
}
